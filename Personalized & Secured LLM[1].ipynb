{
 "cells": [
  {
   "cell_type": "code",
   "execution_count": null,
   "id": "998d6955-b646-48b5-bfe9-b5af726c81a0",
   "metadata": {
    "scrolled": true
   },
   "outputs": [],
   "source": [
    "# Requirements\n",
    "!pip install langchain\n",
    "!pip install torch\n",
    "!pip install sentence_transformers\n",
    "!pip install faiss-cpu\n",
    "!pip install huggingface-hub\n",
    "!pip install pypdf\n",
    "!pip -q install accelerate\n",
    "!pip install llama-cpp-python\n",
    "!pip -q install git+https://github.com/huggingface/transformers"
   ]
  },
  {
   "cell_type": "code",
   "execution_count": null,
   "id": "3cda7197-3644-4f9d-a426-31233b7e2a12",
   "metadata": {},
   "outputs": [],
   "source": [
    "from langchain.chains import RetrievalQA\n",
    "from langchain.embeddings import HuggingFaceEmbeddings\n",
    "from langchain.llms import LlamaCpp\n",
    "from langchain.text_splitter import RecursiveCharacterTextSplitter\n",
    "from langchain.vectorstores import FAISS\n",
    "from langchain.document_loaders import PyPDFDirectoryLoader"
   ]
  },
  {
   "cell_type": "code",
   "execution_count": null,
   "id": "fd61ebda-a0d5-4ea6-9fa9-975928f06d20",
   "metadata": {},
   "outputs": [],
   "source": [
    "#load pdf files\n",
    "loader = PyPDFDirectoryLoader(r\"path\\to\\documents\")\n",
    "data = loader.load()"
   ]
  },
  {
   "cell_type": "code",
   "execution_count": null,
   "id": "eed832de-2809-4c02-919b-108e54806ecb",
   "metadata": {
    "scrolled": true
   },
   "outputs": [],
   "source": [
    "print(data)"
   ]
  },
  {
   "cell_type": "code",
   "execution_count": null,
   "id": "e199d1f6-9815-43c5-9be9-e6fde44c68d7",
   "metadata": {},
   "outputs": [],
   "source": [
    "#Step 05: Split the Extracted Data into Text Chunks\n",
    "text_splitter = RecursiveCharacterTextSplitter(chunk_size=1000, chunk_overlap=100)\n",
    "text_chunks = text_splitter.split_documents(data)"
   ]
  },
  {
   "cell_type": "code",
   "execution_count": null,
   "id": "0e035b5f-8287-4584-b00e-656e4e775e84",
   "metadata": {},
   "outputs": [],
   "source": [
    "#Step 06:Downlaod the Embeddings\n",
    "embeddings = HuggingFaceEmbeddings(model_name=\"sentence-transformers/all-MiniLM-L6-v2\")"
   ]
  },
  {
   "cell_type": "code",
   "execution_count": null,
   "id": "e83d1779-1710-40db-971d-be44b8323a0a",
   "metadata": {},
   "outputs": [],
   "source": [
    "vector_store = FAISS.from_documents(text_chunks, embedding=embeddings)"
   ]
  },
  {
   "cell_type": "code",
   "execution_count": null,
   "id": "216582ac-5111-4813-953c-15846ec6d5e1",
   "metadata": {},
   "outputs": [],
   "source": [
    "#Import Model\n",
    "llm = LlamaCpp(\n",
    "    streaming = True,\n",
    "    model_path=r\"path\\to\\mistral-7b-instruct-v0.1.Q4_K_M.gguf\",\n",
    "    temperature=0.75,\n",
    "    top_p=1,\n",
    "    verbose=True,\n",
    "    n_ctx=4096\n",
    ")"
   ]
  },
  {
   "cell_type": "code",
   "execution_count": null,
   "id": "3ffb6ed6-daf9-410e-820c-fff29363639c",
   "metadata": {},
   "outputs": [],
   "source": [
    "qa = RetrievalQA.from_chain_type(llm=llm, chain_type=\"stuff\", retriever=vectordb.as_retriever(search_kwargs={\"k\": 2}))"
   ]
  },
  {
   "cell_type": "code",
   "execution_count": null,
   "id": "2c79c722-c1e4-4256-a1cf-f4578a1a9b72",
   "metadata": {},
   "outputs": [],
   "source": [
    "import sys\n",
    "\n",
    "while True:\n",
    "  user_input = input(f\"Input Prompt: \")\n",
    "  if user_input == 'exit':\n",
    "    print('Exiting')\n",
    "    sys.exit()\n",
    "  if user_input == '':\n",
    "    continue\n",
    "  result = qa({'query': user_input})\n",
    "  print(f\"Answer: {result['result']}\")"
   ]
  },
  {
   "cell_type": "code",
   "execution_count": null,
   "id": "53b1a08d-25b3-45f8-baca-d3a5466971d2",
   "metadata": {},
   "outputs": [],
   "source": []
  }
 ],
 "metadata": {
  "kernelspec": {
   "display_name": "Python 3 (ipykernel)",
   "language": "python",
   "name": "python3"
  },
  "language_info": {
   "codemirror_mode": {
    "name": "ipython",
    "version": 3
   },
   "file_extension": ".py",
   "mimetype": "text/x-python",
   "name": "python",
   "nbconvert_exporter": "python",
   "pygments_lexer": "ipython3",
   "version": "3.10.8"
  }
 },
 "nbformat": 4,
 "nbformat_minor": 5
}
